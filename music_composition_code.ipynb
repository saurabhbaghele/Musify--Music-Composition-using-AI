{
  "nbformat": 4,
  "nbformat_minor": 0,
  "metadata": {
    "colab": {
      "name": "Musify-Music Composition using LSTM.ipynb",
      "provenance": [],
      "collapsed_sections": []
    },
    "kernelspec": {
      "name": "python3",
      "display_name": "Python 3"
    },
    "language_info": {
      "name": "python"
    },
    "accelerator": "GPU",
    "gpuClass": "standard"
  },
  "cells": [
    {
      "cell_type": "code",
      "source": [
        "! unzip '/content/OneDrive_2022-07-27.zip'   #unzipping the file"
      ],
      "metadata": {
        "id": "ftj4YdSFEm9O"
      },
      "execution_count": null,
      "outputs": []
    },
    {
      "cell_type": "markdown",
      "source": [
        "# Importing the required library\n"
      ],
      "metadata": {
        "id": "uH0-xf4rBrlg"
      }
    },
    {
      "cell_type": "code",
      "execution_count": 2,
      "metadata": {
        "id": "N_Yu4Zp6AiFz"
      },
      "outputs": [],
      "source": [
        "from music21 import *\n",
        "import glob\n",
        "from tqdm import tqdm\n",
        "import numpy as np\n",
        "import random\n",
        "import matplotlib.pyplot as plt\n",
        "import seaborn as sns\n",
        "\n",
        "from sklearn.model_selection import train_test_split"
      ]
    },
    {
      "cell_type": "code",
      "source": [
        "import torch\n",
        "import torch.nn as nn\n",
        "import torch.optim as optim\n",
        "import os"
      ],
      "metadata": {
        "id": "uhGmepG1Avxe"
      },
      "execution_count": 3,
      "outputs": []
    },
    {
      "cell_type": "code",
      "source": [
        "from tensorflow.keras.layers import LSTM,Dense,Input,Dropout\n",
        "from tensorflow.keras.models import Sequential,Model,load_model "
      ],
      "metadata": {
        "id": "rFH6sc8BDAKf"
      },
      "execution_count": 4,
      "outputs": []
    },
    {
      "cell_type": "code",
      "source": [
        "import tensorflow as tf\n"
      ],
      "metadata": {
        "id": "oFevXH8wDFks"
      },
      "execution_count": 5,
      "outputs": []
    },
    {
      "cell_type": "markdown",
      "source": [
        "# Data Preparation"
      ],
      "metadata": {
        "id": "k1p4DHf3CHQ4"
      }
    },
    {
      "cell_type": "code",
      "source": [
        "def read_files(file):\n",
        "    notes=[]\n",
        "    notes_to_parse=None\n",
        "    #parse the midi file\n",
        "    midi=converter.parse(file)\n",
        "    #seperate all instruments from the file\n",
        "    instrmt=instrument.partitionByInstrument(midi)\n",
        "    for part in instrmt.parts:\n",
        "        #fetch data only of Piano instrument\n",
        "        if 'Piano' in str(part):\n",
        "            notes_to_parse=part.recurse()\n",
        "            for element in notes_to_parse:\n",
        "                if type(element)==note.Note:\n",
        "                    notes.append(str(element.pitch))\n",
        "                elif type(element)==chord.Chord:\n",
        "                    notes.append('.'.join(str(n) for n in element.normalOrder))\n",
        "    return notes\n",
        "#retrieve paths recursively from inside the directories/files\n",
        "file_path=['schubert'] \n",
        "all_files=glob.glob('/content/All Midi Files/'+file_path[0]+'/*.mid',recursive=True)\n",
        "notes_array = np.array([read_files(i) for i in all_files])"
      ],
      "metadata": {
        "colab": {
          "base_uri": "https://localhost:8080/"
        },
        "id": "Zh27WPzUCJJL",
        "outputId": "101f4f77-f80a-4f82-b951-6d07fe00755d"
      },
      "execution_count": 6,
      "outputs": [
        {
          "output_type": "stream",
          "name": "stderr",
          "text": [
            "/usr/local/lib/python3.7/dist-packages/ipykernel_launcher.py:21: VisibleDeprecationWarning: Creating an ndarray from ragged nested sequences (which is a list-or-tuple of lists-or-tuples-or ndarrays with different lengths or shapes) is deprecated. If you meant to do this, you must specify 'dtype=object' when creating the ndarray.\n"
          ]
        }
      ]
    },
    {
      "cell_type": "code",
      "source": [
        "#unique notes\n",
        "notess = sum(notes_array,[]) \n",
        "unique_notes = list(set(notess))\n",
        "print(\"Unique Notes:\",len(unique_notes))\n",
        "\n",
        "#notes with their frequency\n",
        "freq=dict(map(lambda x: (x,notess.count(x)),unique_notes))\n",
        "\n",
        "#get the threshold frequency\n",
        "print(\"\\nFrequency notes\")\n",
        "for i in range(50,200,20):\n",
        "  print(i,\":\",len(list(filter(lambda x:x[1]>=i,freq.items()))))\n",
        "\n",
        "#filter notes greater than threshold i.e. 50\n",
        "freq_notes=dict(filter(lambda x:x[1]>=50,freq.items()))\n",
        "\n",
        "#create new notes using the frequent notes\n",
        "new_notes=[[i for i in j if i in freq_notes] for j in notes_array]\n",
        "\n",
        "#dictionary having key as note index and value as note\n",
        "ind2note=dict(enumerate(freq_notes))\n",
        "\n",
        "#dictionary having key as note and value as note index\n",
        "note2ind=dict(map(reversed,ind2note.items()))"
      ],
      "metadata": {
        "colab": {
          "base_uri": "https://localhost:8080/"
        },
        "id": "7O8dQvr9CJ57",
        "outputId": "b709ea8c-053e-472f-e69d-2e060aea0eca"
      },
      "execution_count": 7,
      "outputs": [
        {
          "output_type": "stream",
          "name": "stdout",
          "text": [
            "Unique Notes: 304\n",
            "\n",
            "Frequency notes\n",
            "50 : 167\n",
            "70 : 146\n",
            "90 : 137\n",
            "110 : 128\n",
            "130 : 121\n",
            "150 : 117\n",
            "170 : 109\n",
            "190 : 102\n"
          ]
        }
      ]
    },
    {
      "cell_type": "code",
      "source": [
        "timesteps=50\n",
        "\n",
        "#store values of input and output\n",
        "x=[] ; y=[]\n",
        "\n",
        "for i in new_notes:\n",
        "  for j in range(0,len(i)-timesteps):\n",
        "    #input will be the current index + timestep\n",
        "    #output will be the next index after timestep\n",
        "    inp=i[j:j+timesteps] ; out=i[j+timesteps]\n",
        "\n",
        "    #append the index value of respective notes \n",
        "    x.append(list(map(lambda x:note2ind[x],inp)))\n",
        "    y.append(note2ind[out])\n",
        "\n",
        "x_new=np.array(x) \n",
        "y_new=np.array(y)"
      ],
      "metadata": {
        "id": "ba2dmtZwCM8T"
      },
      "execution_count": 8,
      "outputs": []
    },
    {
      "cell_type": "code",
      "source": [
        "#reshape input and output for the model\n",
        "x_new = np.reshape(x_new,(len(x_new),timesteps,1))\n",
        "y_new = np.reshape(y_new,(-1,1))\n",
        "\n",
        "#split the input and value into training and testing sets\n",
        "#80% for training and 20% for testing sets\n",
        "x_train,x_test,y_train,y_test = train_test_split(x_new,y_new,test_size=0.2,random_state=42)"
      ],
      "metadata": {
        "id": "TNPfGwdFCbzM"
      },
      "execution_count": 9,
      "outputs": []
    },
    {
      "cell_type": "code",
      "source": [
        "x_train.shape"
      ],
      "metadata": {
        "colab": {
          "base_uri": "https://localhost:8080/"
        },
        "id": "sjEBsp7tVi0W",
        "outputId": "3f52ef0f-50fd-420f-c21c-714fe698a34e"
      },
      "execution_count": 10,
      "outputs": [
        {
          "output_type": "execute_result",
          "data": {
            "text/plain": [
              "(51170, 50, 1)"
            ]
          },
          "metadata": {},
          "execution_count": 10
        }
      ]
    },
    {
      "cell_type": "markdown",
      "source": [
        "# Model Buiding"
      ],
      "metadata": {
        "id": "Y_XkwC8A_SAQ"
      }
    },
    {
      "cell_type": "code",
      "source": [
        "print(\"Num GPUs Available: \", len(tf.config.experimental.list_physical_devices('GPU')))"
      ],
      "metadata": {
        "colab": {
          "base_uri": "https://localhost:8080/"
        },
        "id": "eml2mPw3C4L6",
        "outputId": "ba64093e-e843-4ee5-a16d-4e970565ce30"
      },
      "execution_count": 11,
      "outputs": [
        {
          "output_type": "stream",
          "name": "stdout",
          "text": [
            "Num GPUs Available:  1\n"
          ]
        }
      ]
    },
    {
      "cell_type": "code",
      "source": [
        "import tensorflow as tf"
      ],
      "metadata": {
        "id": "3QyldODlGq7B"
      },
      "execution_count": 12,
      "outputs": []
    },
    {
      "cell_type": "code",
      "source": [
        "config = tf.compat.v1.ConfigProto()\n",
        "config.gpu_options.allow_growth=True\n",
        "sess = tf.compat.v1.Session(config=config)"
      ],
      "metadata": {
        "id": "mKi1Cs3hFS63"
      },
      "execution_count": 13,
      "outputs": []
    },
    {
      "cell_type": "code",
      "source": [
        "#create the model\n",
        "model = Sequential()\n",
        "#create two stacked LSTM layer with the latent dimension of 256\n",
        "model.add(LSTM(256,return_sequences=True,input_shape=(x_new.shape[1],x_new.shape[2])))\n",
        "model.add(Dropout(0.2))\n",
        "model.add(LSTM(256))\n",
        "model.add(Dropout(0.2))\n",
        "model.add(Dense(256,activation='relu'))\n",
        "\n",
        "#fully connected layer for the output with softmax activation\n",
        "model.add(Dense(len(note2ind),activation='softmax'))\n",
        "model.summary()"
      ],
      "metadata": {
        "colab": {
          "base_uri": "https://localhost:8080/"
        },
        "id": "7nYzb6TyF4rt",
        "outputId": "602a93de-6751-44b3-f0c0-f702b24d92cc"
      },
      "execution_count": 14,
      "outputs": [
        {
          "output_type": "stream",
          "name": "stdout",
          "text": [
            "Model: \"sequential\"\n",
            "_________________________________________________________________\n",
            " Layer (type)                Output Shape              Param #   \n",
            "=================================================================\n",
            " lstm (LSTM)                 (None, 50, 256)           264192    \n",
            "                                                                 \n",
            " dropout (Dropout)           (None, 50, 256)           0         \n",
            "                                                                 \n",
            " lstm_1 (LSTM)               (None, 256)               525312    \n",
            "                                                                 \n",
            " dropout_1 (Dropout)         (None, 256)               0         \n",
            "                                                                 \n",
            " dense (Dense)               (None, 256)               65792     \n",
            "                                                                 \n",
            " dense_1 (Dense)             (None, 167)               42919     \n",
            "                                                                 \n",
            "=================================================================\n",
            "Total params: 898,215\n",
            "Trainable params: 898,215\n",
            "Non-trainable params: 0\n",
            "_________________________________________________________________\n"
          ]
        }
      ]
    },
    {
      "cell_type": "code",
      "source": [
        "#compile the model using Adam optimizer\n",
        "model.compile(loss='sparse_categorical_crossentropy', optimizer='adam',metrics=['accuracy'])\n",
        "\n",
        "#train the model on training sets and validate on testing sets\n",
        "with tf.device('/gpu:0'):\n",
        "    model.fit(\n",
        "        x_train,y_train,\n",
        "        batch_size=128,epochs=80, \n",
        "        validation_data=(x_test,y_test))"
      ],
      "metadata": {
        "colab": {
          "base_uri": "https://localhost:8080/"
        },
        "id": "YvUjxXX9HFIG",
        "outputId": "942fa0d4-e6cd-4ab0-9f5d-92c0a3c61e0f"
      },
      "execution_count": 15,
      "outputs": [
        {
          "output_type": "stream",
          "name": "stdout",
          "text": [
            "Epoch 1/80\n",
            "400/400 [==============================] - 15s 20ms/step - loss: 4.6709 - accuracy: 0.0307 - val_loss: 4.5304 - val_accuracy: 0.0460\n",
            "Epoch 2/80\n",
            "400/400 [==============================] - 7s 18ms/step - loss: 4.4302 - accuracy: 0.0566 - val_loss: 4.3568 - val_accuracy: 0.0718\n",
            "Epoch 3/80\n",
            "400/400 [==============================] - 7s 18ms/step - loss: 4.1853 - accuracy: 0.0883 - val_loss: 4.0698 - val_accuracy: 0.1023\n",
            "Epoch 4/80\n",
            "400/400 [==============================] - 7s 18ms/step - loss: 3.9248 - accuracy: 0.1204 - val_loss: 3.8433 - val_accuracy: 0.1334\n",
            "Epoch 5/80\n",
            "400/400 [==============================] - 7s 18ms/step - loss: 3.6809 - accuracy: 0.1506 - val_loss: 3.6284 - val_accuracy: 0.1659\n",
            "Epoch 6/80\n",
            "400/400 [==============================] - 7s 18ms/step - loss: 3.4508 - accuracy: 0.1857 - val_loss: 3.4645 - val_accuracy: 0.1890\n",
            "Epoch 7/80\n",
            "400/400 [==============================] - 7s 18ms/step - loss: 3.2472 - accuracy: 0.2168 - val_loss: 3.3284 - val_accuracy: 0.2126\n",
            "Epoch 8/80\n",
            "400/400 [==============================] - 7s 18ms/step - loss: 3.0716 - accuracy: 0.2434 - val_loss: 3.2250 - val_accuracy: 0.2303\n",
            "Epoch 9/80\n",
            "400/400 [==============================] - 7s 19ms/step - loss: 2.9148 - accuracy: 0.2722 - val_loss: 3.1320 - val_accuracy: 0.2473\n",
            "Epoch 10/80\n",
            "400/400 [==============================] - 8s 20ms/step - loss: 2.7747 - accuracy: 0.2946 - val_loss: 3.0775 - val_accuracy: 0.2584\n",
            "Epoch 11/80\n",
            "400/400 [==============================] - 7s 19ms/step - loss: 2.6486 - accuracy: 0.3184 - val_loss: 3.0118 - val_accuracy: 0.2730\n",
            "Epoch 12/80\n",
            "400/400 [==============================] - 8s 19ms/step - loss: 2.5398 - accuracy: 0.3391 - val_loss: 2.9508 - val_accuracy: 0.2822\n",
            "Epoch 13/80\n",
            "400/400 [==============================] - 8s 19ms/step - loss: 2.4359 - accuracy: 0.3608 - val_loss: 2.9150 - val_accuracy: 0.2942\n",
            "Epoch 14/80\n",
            "400/400 [==============================] - 8s 19ms/step - loss: 2.3378 - accuracy: 0.3797 - val_loss: 2.8924 - val_accuracy: 0.3050\n",
            "Epoch 15/80\n",
            "400/400 [==============================] - 8s 19ms/step - loss: 2.2536 - accuracy: 0.3959 - val_loss: 2.8654 - val_accuracy: 0.3164\n",
            "Epoch 16/80\n",
            "400/400 [==============================] - 8s 19ms/step - loss: 2.1730 - accuracy: 0.4154 - val_loss: 2.8496 - val_accuracy: 0.3237\n",
            "Epoch 17/80\n",
            "400/400 [==============================] - 8s 19ms/step - loss: 2.0970 - accuracy: 0.4322 - val_loss: 2.7902 - val_accuracy: 0.3358\n",
            "Epoch 18/80\n",
            "400/400 [==============================] - 8s 20ms/step - loss: 2.0220 - accuracy: 0.4461 - val_loss: 2.7727 - val_accuracy: 0.3449\n",
            "Epoch 19/80\n",
            "400/400 [==============================] - 8s 21ms/step - loss: 1.9562 - accuracy: 0.4609 - val_loss: 2.7880 - val_accuracy: 0.3452\n",
            "Epoch 20/80\n",
            "400/400 [==============================] - 8s 19ms/step - loss: 1.8933 - accuracy: 0.4769 - val_loss: 2.7616 - val_accuracy: 0.3553\n",
            "Epoch 21/80\n",
            "400/400 [==============================] - 8s 19ms/step - loss: 1.8381 - accuracy: 0.4869 - val_loss: 2.7445 - val_accuracy: 0.3642\n",
            "Epoch 22/80\n",
            "400/400 [==============================] - 8s 19ms/step - loss: 1.7767 - accuracy: 0.5036 - val_loss: 2.7177 - val_accuracy: 0.3718\n",
            "Epoch 23/80\n",
            "400/400 [==============================] - 8s 19ms/step - loss: 1.7220 - accuracy: 0.5157 - val_loss: 2.7076 - val_accuracy: 0.3801\n",
            "Epoch 24/80\n",
            "400/400 [==============================] - 8s 19ms/step - loss: 1.6821 - accuracy: 0.5243 - val_loss: 2.7403 - val_accuracy: 0.3805\n",
            "Epoch 25/80\n",
            "400/400 [==============================] - 8s 19ms/step - loss: 1.6382 - accuracy: 0.5361 - val_loss: 2.7028 - val_accuracy: 0.3937\n",
            "Epoch 26/80\n",
            "400/400 [==============================] - 8s 19ms/step - loss: 1.5881 - accuracy: 0.5450 - val_loss: 2.6918 - val_accuracy: 0.3978\n",
            "Epoch 27/80\n",
            "400/400 [==============================] - 8s 19ms/step - loss: 1.5566 - accuracy: 0.5556 - val_loss: 2.6957 - val_accuracy: 0.4035\n",
            "Epoch 28/80\n",
            "400/400 [==============================] - 8s 21ms/step - loss: 1.5036 - accuracy: 0.5660 - val_loss: 2.6894 - val_accuracy: 0.4086\n",
            "Epoch 29/80\n",
            "400/400 [==============================] - 8s 19ms/step - loss: 1.4771 - accuracy: 0.5720 - val_loss: 2.6983 - val_accuracy: 0.4125\n",
            "Epoch 30/80\n",
            "400/400 [==============================] - 8s 19ms/step - loss: 1.4297 - accuracy: 0.5831 - val_loss: 2.6927 - val_accuracy: 0.4159\n",
            "Epoch 31/80\n",
            "400/400 [==============================] - 8s 20ms/step - loss: 1.4071 - accuracy: 0.5875 - val_loss: 2.6872 - val_accuracy: 0.4226\n",
            "Epoch 32/80\n",
            "400/400 [==============================] - 8s 19ms/step - loss: 1.3781 - accuracy: 0.5967 - val_loss: 2.6946 - val_accuracy: 0.4292\n",
            "Epoch 33/80\n",
            "400/400 [==============================] - 8s 19ms/step - loss: 1.3451 - accuracy: 0.6066 - val_loss: 2.6963 - val_accuracy: 0.4310\n",
            "Epoch 34/80\n",
            "400/400 [==============================] - 8s 19ms/step - loss: 1.3129 - accuracy: 0.6129 - val_loss: 2.7127 - val_accuracy: 0.4359\n",
            "Epoch 35/80\n",
            "400/400 [==============================] - 8s 19ms/step - loss: 1.2800 - accuracy: 0.6239 - val_loss: 2.7236 - val_accuracy: 0.4368\n",
            "Epoch 36/80\n",
            "400/400 [==============================] - 8s 19ms/step - loss: 1.2558 - accuracy: 0.6286 - val_loss: 2.7166 - val_accuracy: 0.4427\n",
            "Epoch 37/80\n",
            "400/400 [==============================] - 8s 19ms/step - loss: 1.2294 - accuracy: 0.6336 - val_loss: 2.7062 - val_accuracy: 0.4508\n",
            "Epoch 38/80\n",
            "400/400 [==============================] - 8s 19ms/step - loss: 1.2228 - accuracy: 0.6350 - val_loss: 2.7355 - val_accuracy: 0.4502\n",
            "Epoch 39/80\n",
            "400/400 [==============================] - 8s 19ms/step - loss: 1.1880 - accuracy: 0.6466 - val_loss: 2.7172 - val_accuracy: 0.4529\n",
            "Epoch 40/80\n",
            "400/400 [==============================] - 8s 19ms/step - loss: 1.1673 - accuracy: 0.6512 - val_loss: 2.7288 - val_accuracy: 0.4578\n",
            "Epoch 41/80\n",
            "400/400 [==============================] - 8s 19ms/step - loss: 1.1535 - accuracy: 0.6546 - val_loss: 2.7276 - val_accuracy: 0.4559\n",
            "Epoch 42/80\n",
            "400/400 [==============================] - 8s 19ms/step - loss: 1.1264 - accuracy: 0.6623 - val_loss: 2.7303 - val_accuracy: 0.4643\n",
            "Epoch 43/80\n",
            "400/400 [==============================] - 8s 19ms/step - loss: 1.1129 - accuracy: 0.6654 - val_loss: 2.7484 - val_accuracy: 0.4626\n",
            "Epoch 44/80\n",
            "400/400 [==============================] - 8s 19ms/step - loss: 1.0986 - accuracy: 0.6700 - val_loss: 2.7566 - val_accuracy: 0.4678\n",
            "Epoch 45/80\n",
            "400/400 [==============================] - 8s 19ms/step - loss: 1.0645 - accuracy: 0.6761 - val_loss: 2.7489 - val_accuracy: 0.4710\n",
            "Epoch 46/80\n",
            "400/400 [==============================] - 8s 19ms/step - loss: 1.0535 - accuracy: 0.6789 - val_loss: 2.7598 - val_accuracy: 0.4717\n",
            "Epoch 47/80\n",
            "400/400 [==============================] - 8s 19ms/step - loss: 1.0478 - accuracy: 0.6820 - val_loss: 2.7796 - val_accuracy: 0.4787\n",
            "Epoch 48/80\n",
            "400/400 [==============================] - 8s 19ms/step - loss: 1.0160 - accuracy: 0.6903 - val_loss: 2.8015 - val_accuracy: 0.4744\n",
            "Epoch 49/80\n",
            "400/400 [==============================] - 8s 19ms/step - loss: 1.0170 - accuracy: 0.6899 - val_loss: 2.8043 - val_accuracy: 0.4818\n",
            "Epoch 50/80\n",
            "400/400 [==============================] - 8s 19ms/step - loss: 1.0062 - accuracy: 0.6927 - val_loss: 2.7682 - val_accuracy: 0.4863\n",
            "Epoch 51/80\n",
            "400/400 [==============================] - 8s 19ms/step - loss: 0.9850 - accuracy: 0.6979 - val_loss: 2.8002 - val_accuracy: 0.4834\n",
            "Epoch 52/80\n",
            "400/400 [==============================] - 8s 19ms/step - loss: 0.9750 - accuracy: 0.7005 - val_loss: 2.7954 - val_accuracy: 0.4871\n",
            "Epoch 53/80\n",
            "400/400 [==============================] - 8s 19ms/step - loss: 0.9575 - accuracy: 0.7062 - val_loss: 2.8268 - val_accuracy: 0.4842\n",
            "Epoch 54/80\n",
            "400/400 [==============================] - 8s 21ms/step - loss: 0.9535 - accuracy: 0.7102 - val_loss: 2.8363 - val_accuracy: 0.4910\n",
            "Epoch 55/80\n",
            "400/400 [==============================] - 8s 19ms/step - loss: 0.9394 - accuracy: 0.7100 - val_loss: 2.8283 - val_accuracy: 0.4927\n",
            "Epoch 56/80\n",
            "400/400 [==============================] - 8s 19ms/step - loss: 0.9296 - accuracy: 0.7136 - val_loss: 2.8369 - val_accuracy: 0.4938\n",
            "Epoch 57/80\n",
            "400/400 [==============================] - 8s 19ms/step - loss: 0.9121 - accuracy: 0.7191 - val_loss: 2.8551 - val_accuracy: 0.4935\n",
            "Epoch 58/80\n",
            "400/400 [==============================] - 8s 20ms/step - loss: 0.8927 - accuracy: 0.7274 - val_loss: 2.8513 - val_accuracy: 0.5007\n",
            "Epoch 59/80\n",
            "400/400 [==============================] - 8s 19ms/step - loss: 0.8905 - accuracy: 0.7236 - val_loss: 2.8820 - val_accuracy: 0.4938\n",
            "Epoch 60/80\n",
            "400/400 [==============================] - 8s 19ms/step - loss: 0.9020 - accuracy: 0.7213 - val_loss: 2.8476 - val_accuracy: 0.5001\n",
            "Epoch 61/80\n",
            "400/400 [==============================] - 8s 19ms/step - loss: 0.8768 - accuracy: 0.7274 - val_loss: 2.8949 - val_accuracy: 0.4981\n",
            "Epoch 62/80\n",
            "400/400 [==============================] - 8s 19ms/step - loss: 0.8683 - accuracy: 0.7305 - val_loss: 2.8891 - val_accuracy: 0.5033\n",
            "Epoch 63/80\n",
            "400/400 [==============================] - 8s 19ms/step - loss: 0.8602 - accuracy: 0.7333 - val_loss: 2.9134 - val_accuracy: 0.4982\n",
            "Epoch 64/80\n",
            "400/400 [==============================] - 8s 19ms/step - loss: 0.8581 - accuracy: 0.7328 - val_loss: 2.9296 - val_accuracy: 0.5029\n",
            "Epoch 65/80\n",
            "400/400 [==============================] - 8s 19ms/step - loss: 0.8386 - accuracy: 0.7397 - val_loss: 2.9039 - val_accuracy: 0.5040\n",
            "Epoch 66/80\n",
            "400/400 [==============================] - 8s 19ms/step - loss: 0.8323 - accuracy: 0.7414 - val_loss: 2.9317 - val_accuracy: 0.5111\n",
            "Epoch 67/80\n",
            "400/400 [==============================] - 8s 19ms/step - loss: 0.8270 - accuracy: 0.7429 - val_loss: 2.9561 - val_accuracy: 0.5032\n",
            "Epoch 68/80\n",
            "400/400 [==============================] - 8s 19ms/step - loss: 0.8278 - accuracy: 0.7411 - val_loss: 2.9365 - val_accuracy: 0.5079\n",
            "Epoch 69/80\n",
            "400/400 [==============================] - 8s 19ms/step - loss: 0.8156 - accuracy: 0.7458 - val_loss: 2.9579 - val_accuracy: 0.5077\n",
            "Epoch 70/80\n",
            "400/400 [==============================] - 8s 19ms/step - loss: 0.8113 - accuracy: 0.7468 - val_loss: 2.9328 - val_accuracy: 0.5099\n",
            "Epoch 71/80\n",
            "400/400 [==============================] - 8s 20ms/step - loss: 0.8000 - accuracy: 0.7491 - val_loss: 2.9638 - val_accuracy: 0.5111\n",
            "Epoch 72/80\n",
            "400/400 [==============================] - 8s 19ms/step - loss: 0.7966 - accuracy: 0.7512 - val_loss: 2.9740 - val_accuracy: 0.5118\n",
            "Epoch 73/80\n",
            "400/400 [==============================] - 8s 19ms/step - loss: 0.7845 - accuracy: 0.7548 - val_loss: 2.9714 - val_accuracy: 0.5156\n",
            "Epoch 74/80\n",
            "400/400 [==============================] - 8s 19ms/step - loss: 0.7813 - accuracy: 0.7545 - val_loss: 2.9822 - val_accuracy: 0.5175\n",
            "Epoch 75/80\n",
            "400/400 [==============================] - 8s 19ms/step - loss: 0.7739 - accuracy: 0.7590 - val_loss: 3.0080 - val_accuracy: 0.5126\n",
            "Epoch 76/80\n",
            "400/400 [==============================] - 8s 19ms/step - loss: 0.7697 - accuracy: 0.7582 - val_loss: 3.0003 - val_accuracy: 0.5151\n",
            "Epoch 77/80\n",
            "400/400 [==============================] - 8s 19ms/step - loss: 0.7704 - accuracy: 0.7593 - val_loss: 3.0125 - val_accuracy: 0.5179\n",
            "Epoch 78/80\n",
            "400/400 [==============================] - 8s 19ms/step - loss: 0.7653 - accuracy: 0.7598 - val_loss: 3.0317 - val_accuracy: 0.5155\n",
            "Epoch 79/80\n",
            "400/400 [==============================] - 8s 19ms/step - loss: 0.7559 - accuracy: 0.7650 - val_loss: 3.0650 - val_accuracy: 0.5143\n",
            "Epoch 80/80\n",
            "400/400 [==============================] - 8s 19ms/step - loss: 0.7504 - accuracy: 0.7653 - val_loss: 3.0227 - val_accuracy: 0.5164\n"
          ]
        }
      ]
    },
    {
      "cell_type": "code",
      "source": [
        "model.save(\"MOD\")"
      ],
      "metadata": {
        "colab": {
          "base_uri": "https://localhost:8080/"
        },
        "id": "wItEv4xjHPvv",
        "outputId": "09e87c99-bef7-49ea-b44b-a4d848c5e79d"
      },
      "execution_count": 16,
      "outputs": [
        {
          "output_type": "stream",
          "name": "stderr",
          "text": [
            "WARNING:absl:Found untraced functions such as lstm_cell_layer_call_fn, lstm_cell_layer_call_and_return_conditional_losses, lstm_cell_1_layer_call_fn, lstm_cell_1_layer_call_and_return_conditional_losses while saving (showing 4 of 4). These functions will not be directly callable after loading.\n"
          ]
        },
        {
          "output_type": "stream",
          "name": "stdout",
          "text": [
            "INFO:tensorflow:Assets written to: MOD/assets\n"
          ]
        },
        {
          "output_type": "stream",
          "name": "stderr",
          "text": [
            "INFO:tensorflow:Assets written to: MOD/assets\n",
            "WARNING:absl:<keras.layers.recurrent.LSTMCell object at 0x7f1220d42690> has the same name 'LSTMCell' as a built-in Keras object. Consider renaming <class 'keras.layers.recurrent.LSTMCell'> to avoid naming conflicts when loading with `tf.keras.models.load_model`. If renaming is not possible, pass the object in the `custom_objects` parameter of the load function.\n",
            "WARNING:absl:<keras.layers.recurrent.LSTMCell object at 0x7f121e8ba550> has the same name 'LSTMCell' as a built-in Keras object. Consider renaming <class 'keras.layers.recurrent.LSTMCell'> to avoid naming conflicts when loading with `tf.keras.models.load_model`. If renaming is not possible, pass the object in the `custom_objects` parameter of the load function.\n"
          ]
        }
      ]
    },
    {
      "cell_type": "code",
      "source": [
        "model=load_model(\"MOD\")\n",
        "#generate random index\n",
        "index = np.random.randint(0,len(x_test)-1)\n",
        "#get the data of generated index from x_test\n",
        "music_pattern = x_test[index]\n",
        "\n",
        "out_pred=[] #it will store predicted notes\n",
        "\n",
        "#iterate till 200 note is generated\n",
        "for i in range(200):\n",
        "\n",
        "  #reshape the music pattern \n",
        "  music_pattern = music_pattern.reshape(1,len(music_pattern),1)\n",
        "  \n",
        "  #get the maximum probability value from the predicted output\n",
        "  pred_index = np.argmax(model.predict(music_pattern))\n",
        "  #get the note using predicted index and\n",
        "  #append to the output prediction list\n",
        "  out_pred.append(ind2note[pred_index])\n",
        "  music_pattern = np.append(music_pattern,pred_index)\n",
        "  \n",
        "  #update the music pattern with one timestep ahead\n",
        "  music_pattern = music_pattern[1:]"
      ],
      "metadata": {
        "id": "HDFEVFYtMJEN"
      },
      "execution_count": 17,
      "outputs": []
    },
    {
      "cell_type": "code",
      "source": [
        "output_notes = []\n",
        "for offset,pattern in enumerate(out_pred):\n",
        "  #if pattern is a chord instance\n",
        "  if ('.' in pattern) or pattern.isdigit():\n",
        "    #split notes from the chord\n",
        "    notes_in_chord = pattern.split('.')\n",
        "    notes = []\n",
        "    for current_note in notes_in_chord:\n",
        "        i_curr_note=int(current_note)\n",
        "        #cast the current note to Note object and\n",
        "        #append the current note \n",
        "        new_note = note.Note(i_curr_note)\n",
        "        new_note.storedInstrument = instrument.Piano()\n",
        "        notes.append(new_note)\n",
        "    \n",
        "    #cast the current note to Chord object\n",
        "    #offset will be 1 step ahead from the previous note\n",
        "    #as it will prevent notes to stack up \n",
        "    new_chord = chord.Chord(notes)\n",
        "    new_chord.offset = offset\n",
        "    output_notes.append(new_chord)\n",
        "  \n",
        "  else:\n",
        "    #cast the pattern to Note object apply the offset and \n",
        "    #append the note\n",
        "    new_note = note.Note(pattern)\n",
        "    new_note.offset = offset\n",
        "    new_note.storedInstrument = instrument.Piano()\n",
        "    output_notes.append(new_note)\n",
        "\n",
        "#save the midi file \n",
        "midi_stream = stream.Stream(output_notes)\n",
        "midi_stream.write('midi', fp='AI_composed_music.mid')"
      ],
      "metadata": {
        "colab": {
          "base_uri": "https://localhost:8080/",
          "height": 36
        },
        "id": "2SxRyyABMN_f",
        "outputId": "9d2fecb9-c747-4ef4-8120-3dcb3381fbd6"
      },
      "execution_count": 18,
      "outputs": [
        {
          "output_type": "execute_result",
          "data": {
            "text/plain": [
              "'AI_composed_music.mid'"
            ],
            "application/vnd.google.colaboratory.intrinsic+json": {
              "type": "string"
            }
          },
          "metadata": {},
          "execution_count": 18
        }
      ]
    },
    {
      "cell_type": "code",
      "source": [
        "# playing the file\n",
        "mf = midi.MidiFile()\n",
        "mf.open('AI_composed_music.mid')\n",
        "mf.read()\n",
        "mf.close()\n",
        "s = midi.translate.midiFileToStream(mf)\n",
        "s.show('midi')"
      ],
      "metadata": {
        "id": "h2XRlRvAMTGW",
        "colab": {
          "base_uri": "https://localhost:8080/",
          "height": 17
        },
        "outputId": "e2dbc79f-9f94-4b01-a356-a5d6a9c7103c"
      },
      "execution_count": 19,
      "outputs": [
        {
          "output_type": "display_data",
          "data": {
            "text/plain": [
              "<IPython.core.display.HTML object>"
            ],
            "text/html": [
              "\n",
              "                <div id='midiPlayerDiv1075767'></div>\n",
              "                <link rel=\"stylesheet\" href=\"//cuthbertLab.github.io/music21j/css/m21.css\"\n",
              "                    type=\"text/css\" />\n",
              "                <script>\n",
              "                require.config({\n",
              "                    paths: {'music21': '//cuthbertLab.github.io/music21j/src/music21'}\n",
              "                });\n",
              "                require(['music21'], function() {\n",
              "                               mp = new music21.miditools.MidiPlayer();\n",
              "                               mp.addPlayer('#midiPlayerDiv1075767');\n",
              "                               mp.base64Load('data:audio/midi;base64,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');\n",
              "                        });\n",
              "                </script>"
            ]
          },
          "metadata": {}
        }
      ]
    }
  ]
}